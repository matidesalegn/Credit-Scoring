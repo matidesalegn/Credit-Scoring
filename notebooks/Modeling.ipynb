{
  "cells": [
    {
      "cell_type": "markdown",
      "metadata": {
        "id": "view-in-github",
        "colab_type": "text"
      },
      "source": [
        "<a href=\"https://colab.research.google.com/github/matidesalegn/Credit-Scoring/blob/task-4/notebooks/Modeling.ipynb\" target=\"_parent\"><img src=\"https://colab.research.google.com/assets/colab-badge.svg\" alt=\"Open In Colab\"/></a>"
      ]
    },
    {
      "cell_type": "code",
      "execution_count": 48,
      "metadata": {
        "id": "UFuaZYIsyd0a"
      },
      "outputs": [],
      "source": [
        "# Import necessary libraries\n",
        "import pandas as pd\n",
        "import numpy as np\n",
        "from sklearn.preprocessing import StandardScaler\n",
        "from sklearn.model_selection import train_test_split, GridSearchCV, RandomizedSearchCV\n",
        "from sklearn.linear_model import LogisticRegression\n",
        "from sklearn.tree import DecisionTreeClassifier\n",
        "from sklearn.ensemble import RandomForestClassifier, GradientBoostingClassifier\n",
        "from sklearn.metrics import accuracy_score, precision_score, recall_score, f1_score, roc_auc_score, roc_curve\n",
        "import matplotlib.pyplot as plt\n",
        "import seaborn as sns"
      ]
    },
    {
      "cell_type": "code",
      "execution_count": 49,
      "metadata": {
        "colab": {
          "base_uri": "https://localhost:8080/"
        },
        "id": "Bljm4LLAyd0b",
        "outputId": "ee2ed99c-4e43-4369-f243-445dc6d2a26d"
      },
      "outputs": [
        {
          "output_type": "stream",
          "name": "stdout",
          "text": [
            "   TransactionId  BatchId  AccountId  SubscriptionId  CustomerId CurrencyCode  \\\n",
            "0          78150    46980       2490            3535        2584          UGX   \n",
            "1          75821    31755       3219            2366        2584          UGX   \n",
            "2          39888    60272       2713             996        2806          UGX   \n",
            "3          48738     1797       3351             974        3733          UGX   \n",
            "4          41364    48941       3219            2366        3733          UGX   \n",
            "\n",
            "   CountryCode    ProviderId     ProductId     ProductCategory  ...  \\\n",
            "0          0.0  ProviderId_6  ProductId_10             airtime  ...   \n",
            "1          0.0  ProviderId_4   ProductId_6  financial_services  ...   \n",
            "2          0.0  ProviderId_6   ProductId_1             airtime  ...   \n",
            "3          0.0  ProviderId_1  ProductId_21        utility_bill  ...   \n",
            "4          0.0  ProviderId_4   ProductId_6  financial_services  ...   \n",
            "\n",
            "  PricingStrategy  FraudResult  TotalTransactionAmount  \\\n",
            "0       -0.349252    -0.044962                0.170118   \n",
            "1       -0.349252    -0.044962                0.170118   \n",
            "2       -0.349252    -0.044962                0.165122   \n",
            "3       -0.349252    -0.044962                0.175567   \n",
            "4       -0.349252    -0.044962                0.175567   \n",
            "\n",
            "  AverageTransactionAmount  TransactionCount  TransactionStdDev  \\\n",
            "0                -0.067623         -0.311831          -0.168551   \n",
            "1                -0.067623         -0.311831          -0.168551   \n",
            "2                -0.072568         -0.444993          -0.202748   \n",
            "3                -0.008155         -0.404020          -0.009754   \n",
            "4                -0.008155         -0.404020          -0.009754   \n",
            "\n",
            "   TransactionHour  TransactionDay  TransactionMonth  TransactionYear  \n",
            "0                2              15                11             2018  \n",
            "1                2              15                11             2018  \n",
            "2                2              15                11             2018  \n",
            "3                3              15                11             2018  \n",
            "4                3              15                11             2018  \n",
            "\n",
            "[5 rows x 24 columns]\n"
          ]
        }
      ],
      "source": [
        "# Load the data\n",
        "data = pd.read_csv('processed_data.csv')\n",
        "# Display the first few rows\n",
        "print(data.head())"
      ]
    },
    {
      "cell_type": "code",
      "execution_count": 50,
      "metadata": {
        "id": "DEatJDg9yd0c"
      },
      "outputs": [],
      "source": [
        "# Dropping unique identifier columns and other non-numeric columns\n",
        "data.drop(columns=['TransactionId', 'BatchId', 'AccountId', 'SubscriptionId'], inplace=True)"
      ]
    },
    {
      "cell_type": "code",
      "execution_count": 51,
      "metadata": {
        "id": "-qLpQ1Ksyd0c"
      },
      "outputs": [],
      "source": [
        "# Encoding categorical variables\n",
        "data = pd.get_dummies(data, columns=['CurrencyCode', 'ProviderId', 'ProductId', 'ProductCategory', 'ChannelId'])"
      ]
    },
    {
      "cell_type": "code",
      "execution_count": 52,
      "metadata": {
        "id": "ymgy2G4Oyd0c"
      },
      "outputs": [],
      "source": [
        "# Convert boolean columns to integers\n",
        "bool_columns = data.select_dtypes(include=['bool']).columns\n",
        "data[bool_columns] = data[bool_columns].astype(int)"
      ]
    },
    {
      "cell_type": "code",
      "execution_count": 53,
      "metadata": {
        "id": "t5tskIMqyd0c"
      },
      "outputs": [],
      "source": [
        "# Drop the 'TransactionStartTime' column since it is non-numeric\n",
        "data.drop(columns=['TransactionStartTime'], inplace=True)"
      ]
    },
    {
      "cell_type": "code",
      "execution_count": 54,
      "metadata": {
        "colab": {
          "base_uri": "https://localhost:8080/"
        },
        "id": "xFhkHAtwyd0c",
        "outputId": "466db857-d9db-4437-d829-42ca72fdee76"
      },
      "outputs": [
        {
          "output_type": "stream",
          "name": "stdout",
          "text": [
            "Data Types After Encoding and Dropping Columns:\n",
            " CustomerId                              int64\n",
            "CountryCode                           float64\n",
            "Amount                                float64\n",
            "Value                                 float64\n",
            "PricingStrategy                       float64\n",
            "FraudResult                           float64\n",
            "TotalTransactionAmount                float64\n",
            "AverageTransactionAmount              float64\n",
            "TransactionCount                      float64\n",
            "TransactionStdDev                     float64\n",
            "TransactionHour                         int64\n",
            "TransactionDay                          int64\n",
            "TransactionMonth                        int64\n",
            "TransactionYear                         int64\n",
            "CurrencyCode_UGX                        int64\n",
            "ProviderId_ProviderId_1                 int64\n",
            "ProviderId_ProviderId_2                 int64\n",
            "ProviderId_ProviderId_3                 int64\n",
            "ProviderId_ProviderId_4                 int64\n",
            "ProviderId_ProviderId_5                 int64\n",
            "ProviderId_ProviderId_6                 int64\n",
            "ProductId_ProductId_1                   int64\n",
            "ProductId_ProductId_10                  int64\n",
            "ProductId_ProductId_11                  int64\n",
            "ProductId_ProductId_13                  int64\n",
            "ProductId_ProductId_14                  int64\n",
            "ProductId_ProductId_15                  int64\n",
            "ProductId_ProductId_19                  int64\n",
            "ProductId_ProductId_2                   int64\n",
            "ProductId_ProductId_20                  int64\n",
            "ProductId_ProductId_21                  int64\n",
            "ProductId_ProductId_22                  int64\n",
            "ProductId_ProductId_24                  int64\n",
            "ProductId_ProductId_3                   int64\n",
            "ProductId_ProductId_4                   int64\n",
            "ProductId_ProductId_5                   int64\n",
            "ProductId_ProductId_6                   int64\n",
            "ProductId_ProductId_7                   int64\n",
            "ProductId_ProductId_8                   int64\n",
            "ProductId_ProductId_9                   int64\n",
            "ProductCategory_airtime                 int64\n",
            "ProductCategory_data_bundles            int64\n",
            "ProductCategory_financial_services      int64\n",
            "ProductCategory_movies                  int64\n",
            "ProductCategory_ticket                  int64\n",
            "ProductCategory_transport               int64\n",
            "ProductCategory_tv                      int64\n",
            "ProductCategory_utility_bill            int64\n",
            "ChannelId_ChannelId_1                   int64\n",
            "ChannelId_ChannelId_2                   int64\n",
            "ChannelId_ChannelId_3                   int64\n",
            "ChannelId_ChannelId_5                   int64\n",
            "dtype: object\n"
          ]
        }
      ],
      "source": [
        "# Check the columns and their types to ensure all are numeric\n",
        "print(\"Data Types After Encoding and Dropping Columns:\\n\", data.dtypes)"
      ]
    },
    {
      "cell_type": "code",
      "execution_count": 55,
      "metadata": {
        "colab": {
          "base_uri": "https://localhost:8080/"
        },
        "id": "AvCv8Fuhyd0c",
        "outputId": "d204300f-a255-45e3-e6b3-d8444d4f0189"
      },
      "outputs": [
        {
          "output_type": "stream",
          "name": "stdout",
          "text": [
            "Unique values in FraudResult before correction: [-0.04496219 22.24090895]\n",
            "Counts of unique values in FraudResult before correction:\n",
            " FraudResult\n",
            "-0.044962     7163\n",
            " 22.240909      12\n",
            "Name: count, dtype: int64\n"
          ]
        }
      ],
      "source": [
        "# Investigate unique values in 'FraudResult' and their counts\n",
        "print(\"Unique values in FraudResult before correction:\", data['FraudResult'].unique())\n",
        "print(\"Counts of unique values in FraudResult before correction:\\n\", data['FraudResult'].value_counts())"
      ]
    },
    {
      "cell_type": "code",
      "execution_count": 56,
      "metadata": {
        "colab": {
          "base_uri": "https://localhost:8080/"
        },
        "id": "S_NHUuk4yd0c",
        "outputId": "7a22c95c-2885-415a-ff73-7b92d9bd11a3"
      },
      "outputs": [
        {
          "output_type": "stream",
          "name": "stdout",
          "text": [
            "Min value in FraudResult: -0.0449621911622598\n",
            "Max value in FraudResult: 22.24090895372945\n"
          ]
        }
      ],
      "source": [
        "# Ensure the target variable is binary\n",
        "# Assuming values other than 0 should be treated as 1 (fraudulent)\n",
        "# Check the minimum and maximum values to understand the range\n",
        "print(\"Min value in FraudResult:\", data['FraudResult'].min())\n",
        "print(\"Max value in FraudResult:\", data['FraudResult'].max())"
      ]
    },
    {
      "cell_type": "code",
      "execution_count": 57,
      "metadata": {
        "id": "OMkoQAqoyd0d"
      },
      "outputs": [],
      "source": [
        "# Correcting the transformation\n",
        "data['FraudResult'] = data['FraudResult'].apply(lambda x: 1 if x > 0 else 0)"
      ]
    },
    {
      "cell_type": "code",
      "execution_count": 58,
      "metadata": {
        "colab": {
          "base_uri": "https://localhost:8080/"
        },
        "id": "tYgvHltTyd0d",
        "outputId": "c94dfde9-b948-402f-b488-6f6b994f4c74"
      },
      "outputs": [
        {
          "output_type": "stream",
          "name": "stdout",
          "text": [
            "Unique values in FraudResult after correction: [0 1]\n",
            "Counts of unique values in FraudResult after correction:\n",
            " FraudResult\n",
            "0    7163\n",
            "1      12\n",
            "Name: count, dtype: int64\n"
          ]
        }
      ],
      "source": [
        "# Verify unique values in target variable after correction\n",
        "print(\"Unique values in FraudResult after correction:\", data['FraudResult'].unique())\n",
        "print(\"Counts of unique values in FraudResult after correction:\\n\", data['FraudResult'].value_counts())"
      ]
    },
    {
      "cell_type": "code",
      "execution_count": 59,
      "metadata": {
        "id": "BqV2QAYoyd0d"
      },
      "outputs": [],
      "source": [
        "# Define features and target\n",
        "X = data.drop('FraudResult', axis=1)\n",
        "y = data['FraudResult']"
      ]
    },
    {
      "cell_type": "code",
      "execution_count": 60,
      "metadata": {
        "colab": {
          "base_uri": "https://localhost:8080/"
        },
        "id": "3RTKmd1Pyd0d",
        "outputId": "5fee5760-60f3-4a86-8652-700b8119ac63"
      },
      "outputs": [
        {
          "output_type": "stream",
          "name": "stdout",
          "text": [
            "Unique values in target variable before split: [0 1]\n"
          ]
        }
      ],
      "source": [
        "# Verify unique values in target variable before split\n",
        "print(\"Unique values in target variable before split:\", y.unique())"
      ]
    },
    {
      "cell_type": "code",
      "execution_count": 61,
      "metadata": {
        "id": "f9Ymby4Ryd0d"
      },
      "outputs": [],
      "source": [
        "# Split the data into training and testing sets\n",
        "X_train, X_test, y_train, y_test = train_test_split(X, y, test_size=0.3, random_state=42)"
      ]
    },
    {
      "cell_type": "code",
      "execution_count": 62,
      "metadata": {
        "colab": {
          "base_uri": "https://localhost:8080/"
        },
        "id": "FDtCmXdvyd0d",
        "outputId": "cbcc90fc-e0b3-45ed-92f0-886ee1158a72"
      },
      "outputs": [
        {
          "output_type": "stream",
          "name": "stdout",
          "text": [
            "Unique values in y_test after split: [0 1]\n"
          ]
        }
      ],
      "source": [
        "# Verify unique values in y_test\n",
        "print(\"Unique values in y_test after split:\", y_test.unique())"
      ]
    },
    {
      "cell_type": "code",
      "execution_count": 63,
      "metadata": {
        "colab": {
          "base_uri": "https://localhost:8080/"
        },
        "id": "HcjHbRKkyd0d",
        "outputId": "52c47380-0bc5-4f6d-dfe4-02e00770e23d"
      },
      "outputs": [
        {
          "output_type": "stream",
          "name": "stdout",
          "text": [
            "Counts of unique values in y_train after split:\n",
            " FraudResult\n",
            "0    5013\n",
            "1       9\n",
            "Name: count, dtype: int64\n",
            "Counts of unique values in y_test after split:\n",
            " FraudResult\n",
            "0    2150\n",
            "1       3\n",
            "Name: count, dtype: int64\n"
          ]
        }
      ],
      "source": [
        "# Check the balance of the classes in y_train and y_test\n",
        "print(\"Counts of unique values in y_train after split:\\n\", y_train.value_counts())\n",
        "print(\"Counts of unique values in y_test after split:\\n\", y_test.value_counts())"
      ]
    },
    {
      "cell_type": "code",
      "execution_count": 64,
      "metadata": {
        "id": "_e0yrwz1yd0d"
      },
      "outputs": [],
      "source": [
        "# Scale numeric features\n",
        "scaler = StandardScaler()\n",
        "X_train = scaler.fit_transform(X_train)\n",
        "X_test = scaler.transform(X_test)"
      ]
    },
    {
      "cell_type": "code",
      "execution_count": 65,
      "metadata": {
        "id": "_T1cRz5Ayd0d"
      },
      "outputs": [],
      "source": [
        "# Model selection and initial training\n",
        "log_reg = LogisticRegression(max_iter=1000)\n",
        "dec_tree = DecisionTreeClassifier()\n",
        "rand_forest = RandomForestClassifier()\n",
        "gbm = GradientBoostingClassifier()"
      ]
    },
    {
      "cell_type": "code",
      "execution_count": 36,
      "metadata": {
        "colab": {
          "base_uri": "https://localhost:8080/",
          "height": 181
        },
        "id": "AmLfiXbwyd0e",
        "outputId": "9e63eab1-09f1-484d-b883-f5c32a833899"
      },
      "outputs": [
        {
          "output_type": "execute_result",
          "data": {
            "text/plain": [
              "GridSearchCV(cv=5, estimator=LogisticRegression(max_iter=1000),\n",
              "             param_grid={'C': [0.01, 0.1, 1, 10, 100]}, scoring='roc_auc')"
            ],
            "text/html": [
              "<style>#sk-container-id-1 {color: black;background-color: white;}#sk-container-id-1 pre{padding: 0;}#sk-container-id-1 div.sk-toggleable {background-color: white;}#sk-container-id-1 label.sk-toggleable__label {cursor: pointer;display: block;width: 100%;margin-bottom: 0;padding: 0.3em;box-sizing: border-box;text-align: center;}#sk-container-id-1 label.sk-toggleable__label-arrow:before {content: \"▸\";float: left;margin-right: 0.25em;color: #696969;}#sk-container-id-1 label.sk-toggleable__label-arrow:hover:before {color: black;}#sk-container-id-1 div.sk-estimator:hover label.sk-toggleable__label-arrow:before {color: black;}#sk-container-id-1 div.sk-toggleable__content {max-height: 0;max-width: 0;overflow: hidden;text-align: left;background-color: #f0f8ff;}#sk-container-id-1 div.sk-toggleable__content pre {margin: 0.2em;color: black;border-radius: 0.25em;background-color: #f0f8ff;}#sk-container-id-1 input.sk-toggleable__control:checked~div.sk-toggleable__content {max-height: 200px;max-width: 100%;overflow: auto;}#sk-container-id-1 input.sk-toggleable__control:checked~label.sk-toggleable__label-arrow:before {content: \"▾\";}#sk-container-id-1 div.sk-estimator input.sk-toggleable__control:checked~label.sk-toggleable__label {background-color: #d4ebff;}#sk-container-id-1 div.sk-label input.sk-toggleable__control:checked~label.sk-toggleable__label {background-color: #d4ebff;}#sk-container-id-1 input.sk-hidden--visually {border: 0;clip: rect(1px 1px 1px 1px);clip: rect(1px, 1px, 1px, 1px);height: 1px;margin: -1px;overflow: hidden;padding: 0;position: absolute;width: 1px;}#sk-container-id-1 div.sk-estimator {font-family: monospace;background-color: #f0f8ff;border: 1px dotted black;border-radius: 0.25em;box-sizing: border-box;margin-bottom: 0.5em;}#sk-container-id-1 div.sk-estimator:hover {background-color: #d4ebff;}#sk-container-id-1 div.sk-parallel-item::after {content: \"\";width: 100%;border-bottom: 1px solid gray;flex-grow: 1;}#sk-container-id-1 div.sk-label:hover label.sk-toggleable__label {background-color: #d4ebff;}#sk-container-id-1 div.sk-serial::before {content: \"\";position: absolute;border-left: 1px solid gray;box-sizing: border-box;top: 0;bottom: 0;left: 50%;z-index: 0;}#sk-container-id-1 div.sk-serial {display: flex;flex-direction: column;align-items: center;background-color: white;padding-right: 0.2em;padding-left: 0.2em;position: relative;}#sk-container-id-1 div.sk-item {position: relative;z-index: 1;}#sk-container-id-1 div.sk-parallel {display: flex;align-items: stretch;justify-content: center;background-color: white;position: relative;}#sk-container-id-1 div.sk-item::before, #sk-container-id-1 div.sk-parallel-item::before {content: \"\";position: absolute;border-left: 1px solid gray;box-sizing: border-box;top: 0;bottom: 0;left: 50%;z-index: -1;}#sk-container-id-1 div.sk-parallel-item {display: flex;flex-direction: column;z-index: 1;position: relative;background-color: white;}#sk-container-id-1 div.sk-parallel-item:first-child::after {align-self: flex-end;width: 50%;}#sk-container-id-1 div.sk-parallel-item:last-child::after {align-self: flex-start;width: 50%;}#sk-container-id-1 div.sk-parallel-item:only-child::after {width: 0;}#sk-container-id-1 div.sk-dashed-wrapped {border: 1px dashed gray;margin: 0 0.4em 0.5em 0.4em;box-sizing: border-box;padding-bottom: 0.4em;background-color: white;}#sk-container-id-1 div.sk-label label {font-family: monospace;font-weight: bold;display: inline-block;line-height: 1.2em;}#sk-container-id-1 div.sk-label-container {text-align: center;}#sk-container-id-1 div.sk-container {/* jupyter's `normalize.less` sets `[hidden] { display: none; }` but bootstrap.min.css set `[hidden] { display: none !important; }` so we also need the `!important` here to be able to override the default hidden behavior on the sphinx rendered scikit-learn.org. See: https://github.com/scikit-learn/scikit-learn/issues/21755 */display: inline-block !important;position: relative;}#sk-container-id-1 div.sk-text-repr-fallback {display: none;}</style><div id=\"sk-container-id-1\" class=\"sk-top-container\"><div class=\"sk-text-repr-fallback\"><pre>GridSearchCV(cv=5, estimator=LogisticRegression(max_iter=1000),\n",
              "             param_grid={&#x27;C&#x27;: [0.01, 0.1, 1, 10, 100]}, scoring=&#x27;roc_auc&#x27;)</pre><b>In a Jupyter environment, please rerun this cell to show the HTML representation or trust the notebook. <br />On GitHub, the HTML representation is unable to render, please try loading this page with nbviewer.org.</b></div><div class=\"sk-container\" hidden><div class=\"sk-item sk-dashed-wrapped\"><div class=\"sk-label-container\"><div class=\"sk-label sk-toggleable\"><input class=\"sk-toggleable__control sk-hidden--visually\" id=\"sk-estimator-id-1\" type=\"checkbox\" ><label for=\"sk-estimator-id-1\" class=\"sk-toggleable__label sk-toggleable__label-arrow\">GridSearchCV</label><div class=\"sk-toggleable__content\"><pre>GridSearchCV(cv=5, estimator=LogisticRegression(max_iter=1000),\n",
              "             param_grid={&#x27;C&#x27;: [0.01, 0.1, 1, 10, 100]}, scoring=&#x27;roc_auc&#x27;)</pre></div></div></div><div class=\"sk-parallel\"><div class=\"sk-parallel-item\"><div class=\"sk-item\"><div class=\"sk-label-container\"><div class=\"sk-label sk-toggleable\"><input class=\"sk-toggleable__control sk-hidden--visually\" id=\"sk-estimator-id-2\" type=\"checkbox\" ><label for=\"sk-estimator-id-2\" class=\"sk-toggleable__label sk-toggleable__label-arrow\">estimator: LogisticRegression</label><div class=\"sk-toggleable__content\"><pre>LogisticRegression(max_iter=1000)</pre></div></div></div><div class=\"sk-serial\"><div class=\"sk-item\"><div class=\"sk-estimator sk-toggleable\"><input class=\"sk-toggleable__control sk-hidden--visually\" id=\"sk-estimator-id-3\" type=\"checkbox\" ><label for=\"sk-estimator-id-3\" class=\"sk-toggleable__label sk-toggleable__label-arrow\">LogisticRegression</label><div class=\"sk-toggleable__content\"><pre>LogisticRegression(max_iter=1000)</pre></div></div></div></div></div></div></div></div></div></div>"
            ]
          },
          "metadata": {},
          "execution_count": 36
        }
      ],
      "source": [
        "# Hyperparameter tuning for Logistic Regression\n",
        "param_grid_log_reg = {'C': [0.01, 0.1, 1, 10, 100]}\n",
        "grid_search_log_reg = GridSearchCV(log_reg, param_grid_log_reg, cv=5, scoring='roc_auc')\n",
        "grid_search_log_reg.fit(X_train, y_train)"
      ]
    },
    {
      "cell_type": "code",
      "execution_count": 37,
      "metadata": {
        "colab": {
          "base_uri": "https://localhost:8080/",
          "height": 233
        },
        "id": "fbMsZsU1yd0e",
        "outputId": "7e3df924-4896-452d-fe0e-e23132e505cf"
      },
      "outputs": [
        {
          "output_type": "execute_result",
          "data": {
            "text/plain": [
              "GridSearchCV(cv=5, estimator=DecisionTreeClassifier(),\n",
              "             param_grid={'max_depth': [None, 10, 20, 30, 40, 50],\n",
              "                         'min_samples_leaf': [1, 2, 5, 10],\n",
              "                         'min_samples_split': [2, 5, 10]},\n",
              "             scoring='roc_auc')"
            ],
            "text/html": [
              "<style>#sk-container-id-2 {color: black;background-color: white;}#sk-container-id-2 pre{padding: 0;}#sk-container-id-2 div.sk-toggleable {background-color: white;}#sk-container-id-2 label.sk-toggleable__label {cursor: pointer;display: block;width: 100%;margin-bottom: 0;padding: 0.3em;box-sizing: border-box;text-align: center;}#sk-container-id-2 label.sk-toggleable__label-arrow:before {content: \"▸\";float: left;margin-right: 0.25em;color: #696969;}#sk-container-id-2 label.sk-toggleable__label-arrow:hover:before {color: black;}#sk-container-id-2 div.sk-estimator:hover label.sk-toggleable__label-arrow:before {color: black;}#sk-container-id-2 div.sk-toggleable__content {max-height: 0;max-width: 0;overflow: hidden;text-align: left;background-color: #f0f8ff;}#sk-container-id-2 div.sk-toggleable__content pre {margin: 0.2em;color: black;border-radius: 0.25em;background-color: #f0f8ff;}#sk-container-id-2 input.sk-toggleable__control:checked~div.sk-toggleable__content {max-height: 200px;max-width: 100%;overflow: auto;}#sk-container-id-2 input.sk-toggleable__control:checked~label.sk-toggleable__label-arrow:before {content: \"▾\";}#sk-container-id-2 div.sk-estimator input.sk-toggleable__control:checked~label.sk-toggleable__label {background-color: #d4ebff;}#sk-container-id-2 div.sk-label input.sk-toggleable__control:checked~label.sk-toggleable__label {background-color: #d4ebff;}#sk-container-id-2 input.sk-hidden--visually {border: 0;clip: rect(1px 1px 1px 1px);clip: rect(1px, 1px, 1px, 1px);height: 1px;margin: -1px;overflow: hidden;padding: 0;position: absolute;width: 1px;}#sk-container-id-2 div.sk-estimator {font-family: monospace;background-color: #f0f8ff;border: 1px dotted black;border-radius: 0.25em;box-sizing: border-box;margin-bottom: 0.5em;}#sk-container-id-2 div.sk-estimator:hover {background-color: #d4ebff;}#sk-container-id-2 div.sk-parallel-item::after {content: \"\";width: 100%;border-bottom: 1px solid gray;flex-grow: 1;}#sk-container-id-2 div.sk-label:hover label.sk-toggleable__label {background-color: #d4ebff;}#sk-container-id-2 div.sk-serial::before {content: \"\";position: absolute;border-left: 1px solid gray;box-sizing: border-box;top: 0;bottom: 0;left: 50%;z-index: 0;}#sk-container-id-2 div.sk-serial {display: flex;flex-direction: column;align-items: center;background-color: white;padding-right: 0.2em;padding-left: 0.2em;position: relative;}#sk-container-id-2 div.sk-item {position: relative;z-index: 1;}#sk-container-id-2 div.sk-parallel {display: flex;align-items: stretch;justify-content: center;background-color: white;position: relative;}#sk-container-id-2 div.sk-item::before, #sk-container-id-2 div.sk-parallel-item::before {content: \"\";position: absolute;border-left: 1px solid gray;box-sizing: border-box;top: 0;bottom: 0;left: 50%;z-index: -1;}#sk-container-id-2 div.sk-parallel-item {display: flex;flex-direction: column;z-index: 1;position: relative;background-color: white;}#sk-container-id-2 div.sk-parallel-item:first-child::after {align-self: flex-end;width: 50%;}#sk-container-id-2 div.sk-parallel-item:last-child::after {align-self: flex-start;width: 50%;}#sk-container-id-2 div.sk-parallel-item:only-child::after {width: 0;}#sk-container-id-2 div.sk-dashed-wrapped {border: 1px dashed gray;margin: 0 0.4em 0.5em 0.4em;box-sizing: border-box;padding-bottom: 0.4em;background-color: white;}#sk-container-id-2 div.sk-label label {font-family: monospace;font-weight: bold;display: inline-block;line-height: 1.2em;}#sk-container-id-2 div.sk-label-container {text-align: center;}#sk-container-id-2 div.sk-container {/* jupyter's `normalize.less` sets `[hidden] { display: none; }` but bootstrap.min.css set `[hidden] { display: none !important; }` so we also need the `!important` here to be able to override the default hidden behavior on the sphinx rendered scikit-learn.org. See: https://github.com/scikit-learn/scikit-learn/issues/21755 */display: inline-block !important;position: relative;}#sk-container-id-2 div.sk-text-repr-fallback {display: none;}</style><div id=\"sk-container-id-2\" class=\"sk-top-container\"><div class=\"sk-text-repr-fallback\"><pre>GridSearchCV(cv=5, estimator=DecisionTreeClassifier(),\n",
              "             param_grid={&#x27;max_depth&#x27;: [None, 10, 20, 30, 40, 50],\n",
              "                         &#x27;min_samples_leaf&#x27;: [1, 2, 5, 10],\n",
              "                         &#x27;min_samples_split&#x27;: [2, 5, 10]},\n",
              "             scoring=&#x27;roc_auc&#x27;)</pre><b>In a Jupyter environment, please rerun this cell to show the HTML representation or trust the notebook. <br />On GitHub, the HTML representation is unable to render, please try loading this page with nbviewer.org.</b></div><div class=\"sk-container\" hidden><div class=\"sk-item sk-dashed-wrapped\"><div class=\"sk-label-container\"><div class=\"sk-label sk-toggleable\"><input class=\"sk-toggleable__control sk-hidden--visually\" id=\"sk-estimator-id-4\" type=\"checkbox\" ><label for=\"sk-estimator-id-4\" class=\"sk-toggleable__label sk-toggleable__label-arrow\">GridSearchCV</label><div class=\"sk-toggleable__content\"><pre>GridSearchCV(cv=5, estimator=DecisionTreeClassifier(),\n",
              "             param_grid={&#x27;max_depth&#x27;: [None, 10, 20, 30, 40, 50],\n",
              "                         &#x27;min_samples_leaf&#x27;: [1, 2, 5, 10],\n",
              "                         &#x27;min_samples_split&#x27;: [2, 5, 10]},\n",
              "             scoring=&#x27;roc_auc&#x27;)</pre></div></div></div><div class=\"sk-parallel\"><div class=\"sk-parallel-item\"><div class=\"sk-item\"><div class=\"sk-label-container\"><div class=\"sk-label sk-toggleable\"><input class=\"sk-toggleable__control sk-hidden--visually\" id=\"sk-estimator-id-5\" type=\"checkbox\" ><label for=\"sk-estimator-id-5\" class=\"sk-toggleable__label sk-toggleable__label-arrow\">estimator: DecisionTreeClassifier</label><div class=\"sk-toggleable__content\"><pre>DecisionTreeClassifier()</pre></div></div></div><div class=\"sk-serial\"><div class=\"sk-item\"><div class=\"sk-estimator sk-toggleable\"><input class=\"sk-toggleable__control sk-hidden--visually\" id=\"sk-estimator-id-6\" type=\"checkbox\" ><label for=\"sk-estimator-id-6\" class=\"sk-toggleable__label sk-toggleable__label-arrow\">DecisionTreeClassifier</label><div class=\"sk-toggleable__content\"><pre>DecisionTreeClassifier()</pre></div></div></div></div></div></div></div></div></div></div>"
            ]
          },
          "metadata": {},
          "execution_count": 37
        }
      ],
      "source": [
        "# Hyperparameter tuning for Decision Tree\n",
        "param_grid_dec_tree = {'max_depth': [None, 10, 20, 30, 40, 50], 'min_samples_split': [2, 5, 10], 'min_samples_leaf': [1, 2, 5, 10]}\n",
        "grid_search_dec_tree = GridSearchCV(dec_tree, param_grid_dec_tree, cv=5, scoring='roc_auc')\n",
        "grid_search_dec_tree.fit(X_train, y_train)"
      ]
    },
    {
      "cell_type": "code",
      "execution_count": 38,
      "metadata": {
        "colab": {
          "base_uri": "https://localhost:8080/",
          "height": 250
        },
        "id": "KYTZroo1yd0e",
        "outputId": "49c0c522-47e3-4c1d-d96c-cb7dcf71c291"
      },
      "outputs": [
        {
          "output_type": "execute_result",
          "data": {
            "text/plain": [
              "RandomizedSearchCV(cv=5, estimator=RandomForestClassifier(),\n",
              "                   param_distributions={'max_depth': [None, 10, 20, 30],\n",
              "                                        'min_samples_leaf': [1, 2, 5],\n",
              "                                        'min_samples_split': [2, 5, 10],\n",
              "                                        'n_estimators': [100, 200, 300]},\n",
              "                   random_state=42, scoring='roc_auc')"
            ],
            "text/html": [
              "<style>#sk-container-id-3 {color: black;background-color: white;}#sk-container-id-3 pre{padding: 0;}#sk-container-id-3 div.sk-toggleable {background-color: white;}#sk-container-id-3 label.sk-toggleable__label {cursor: pointer;display: block;width: 100%;margin-bottom: 0;padding: 0.3em;box-sizing: border-box;text-align: center;}#sk-container-id-3 label.sk-toggleable__label-arrow:before {content: \"▸\";float: left;margin-right: 0.25em;color: #696969;}#sk-container-id-3 label.sk-toggleable__label-arrow:hover:before {color: black;}#sk-container-id-3 div.sk-estimator:hover label.sk-toggleable__label-arrow:before {color: black;}#sk-container-id-3 div.sk-toggleable__content {max-height: 0;max-width: 0;overflow: hidden;text-align: left;background-color: #f0f8ff;}#sk-container-id-3 div.sk-toggleable__content pre {margin: 0.2em;color: black;border-radius: 0.25em;background-color: #f0f8ff;}#sk-container-id-3 input.sk-toggleable__control:checked~div.sk-toggleable__content {max-height: 200px;max-width: 100%;overflow: auto;}#sk-container-id-3 input.sk-toggleable__control:checked~label.sk-toggleable__label-arrow:before {content: \"▾\";}#sk-container-id-3 div.sk-estimator input.sk-toggleable__control:checked~label.sk-toggleable__label {background-color: #d4ebff;}#sk-container-id-3 div.sk-label input.sk-toggleable__control:checked~label.sk-toggleable__label {background-color: #d4ebff;}#sk-container-id-3 input.sk-hidden--visually {border: 0;clip: rect(1px 1px 1px 1px);clip: rect(1px, 1px, 1px, 1px);height: 1px;margin: -1px;overflow: hidden;padding: 0;position: absolute;width: 1px;}#sk-container-id-3 div.sk-estimator {font-family: monospace;background-color: #f0f8ff;border: 1px dotted black;border-radius: 0.25em;box-sizing: border-box;margin-bottom: 0.5em;}#sk-container-id-3 div.sk-estimator:hover {background-color: #d4ebff;}#sk-container-id-3 div.sk-parallel-item::after {content: \"\";width: 100%;border-bottom: 1px solid gray;flex-grow: 1;}#sk-container-id-3 div.sk-label:hover label.sk-toggleable__label {background-color: #d4ebff;}#sk-container-id-3 div.sk-serial::before {content: \"\";position: absolute;border-left: 1px solid gray;box-sizing: border-box;top: 0;bottom: 0;left: 50%;z-index: 0;}#sk-container-id-3 div.sk-serial {display: flex;flex-direction: column;align-items: center;background-color: white;padding-right: 0.2em;padding-left: 0.2em;position: relative;}#sk-container-id-3 div.sk-item {position: relative;z-index: 1;}#sk-container-id-3 div.sk-parallel {display: flex;align-items: stretch;justify-content: center;background-color: white;position: relative;}#sk-container-id-3 div.sk-item::before, #sk-container-id-3 div.sk-parallel-item::before {content: \"\";position: absolute;border-left: 1px solid gray;box-sizing: border-box;top: 0;bottom: 0;left: 50%;z-index: -1;}#sk-container-id-3 div.sk-parallel-item {display: flex;flex-direction: column;z-index: 1;position: relative;background-color: white;}#sk-container-id-3 div.sk-parallel-item:first-child::after {align-self: flex-end;width: 50%;}#sk-container-id-3 div.sk-parallel-item:last-child::after {align-self: flex-start;width: 50%;}#sk-container-id-3 div.sk-parallel-item:only-child::after {width: 0;}#sk-container-id-3 div.sk-dashed-wrapped {border: 1px dashed gray;margin: 0 0.4em 0.5em 0.4em;box-sizing: border-box;padding-bottom: 0.4em;background-color: white;}#sk-container-id-3 div.sk-label label {font-family: monospace;font-weight: bold;display: inline-block;line-height: 1.2em;}#sk-container-id-3 div.sk-label-container {text-align: center;}#sk-container-id-3 div.sk-container {/* jupyter's `normalize.less` sets `[hidden] { display: none; }` but bootstrap.min.css set `[hidden] { display: none !important; }` so we also need the `!important` here to be able to override the default hidden behavior on the sphinx rendered scikit-learn.org. See: https://github.com/scikit-learn/scikit-learn/issues/21755 */display: inline-block !important;position: relative;}#sk-container-id-3 div.sk-text-repr-fallback {display: none;}</style><div id=\"sk-container-id-3\" class=\"sk-top-container\"><div class=\"sk-text-repr-fallback\"><pre>RandomizedSearchCV(cv=5, estimator=RandomForestClassifier(),\n",
              "                   param_distributions={&#x27;max_depth&#x27;: [None, 10, 20, 30],\n",
              "                                        &#x27;min_samples_leaf&#x27;: [1, 2, 5],\n",
              "                                        &#x27;min_samples_split&#x27;: [2, 5, 10],\n",
              "                                        &#x27;n_estimators&#x27;: [100, 200, 300]},\n",
              "                   random_state=42, scoring=&#x27;roc_auc&#x27;)</pre><b>In a Jupyter environment, please rerun this cell to show the HTML representation or trust the notebook. <br />On GitHub, the HTML representation is unable to render, please try loading this page with nbviewer.org.</b></div><div class=\"sk-container\" hidden><div class=\"sk-item sk-dashed-wrapped\"><div class=\"sk-label-container\"><div class=\"sk-label sk-toggleable\"><input class=\"sk-toggleable__control sk-hidden--visually\" id=\"sk-estimator-id-7\" type=\"checkbox\" ><label for=\"sk-estimator-id-7\" class=\"sk-toggleable__label sk-toggleable__label-arrow\">RandomizedSearchCV</label><div class=\"sk-toggleable__content\"><pre>RandomizedSearchCV(cv=5, estimator=RandomForestClassifier(),\n",
              "                   param_distributions={&#x27;max_depth&#x27;: [None, 10, 20, 30],\n",
              "                                        &#x27;min_samples_leaf&#x27;: [1, 2, 5],\n",
              "                                        &#x27;min_samples_split&#x27;: [2, 5, 10],\n",
              "                                        &#x27;n_estimators&#x27;: [100, 200, 300]},\n",
              "                   random_state=42, scoring=&#x27;roc_auc&#x27;)</pre></div></div></div><div class=\"sk-parallel\"><div class=\"sk-parallel-item\"><div class=\"sk-item\"><div class=\"sk-label-container\"><div class=\"sk-label sk-toggleable\"><input class=\"sk-toggleable__control sk-hidden--visually\" id=\"sk-estimator-id-8\" type=\"checkbox\" ><label for=\"sk-estimator-id-8\" class=\"sk-toggleable__label sk-toggleable__label-arrow\">estimator: RandomForestClassifier</label><div class=\"sk-toggleable__content\"><pre>RandomForestClassifier()</pre></div></div></div><div class=\"sk-serial\"><div class=\"sk-item\"><div class=\"sk-estimator sk-toggleable\"><input class=\"sk-toggleable__control sk-hidden--visually\" id=\"sk-estimator-id-9\" type=\"checkbox\" ><label for=\"sk-estimator-id-9\" class=\"sk-toggleable__label sk-toggleable__label-arrow\">RandomForestClassifier</label><div class=\"sk-toggleable__content\"><pre>RandomForestClassifier()</pre></div></div></div></div></div></div></div></div></div></div>"
            ]
          },
          "metadata": {},
          "execution_count": 38
        }
      ],
      "source": [
        "# Hyperparameter tuning for Random Forest\n",
        "param_grid_rand_forest = {'n_estimators': [100, 200, 300], 'max_depth': [None, 10, 20, 30], 'min_samples_split': [2, 5, 10], 'min_samples_leaf': [1, 2, 5]}\n",
        "random_search_rand_forest = RandomizedSearchCV(rand_forest, param_grid_rand_forest, n_iter=10, cv=5, scoring='roc_auc', random_state=42)\n",
        "random_search_rand_forest.fit(X_train, y_train)"
      ]
    },
    {
      "cell_type": "code",
      "execution_count": 39,
      "metadata": {
        "colab": {
          "base_uri": "https://localhost:8080/",
          "height": 118
        },
        "id": "UtcOsvMRyd0e",
        "outputId": "79358f4c-7e0d-42a9-db18-87dc073423e3"
      },
      "outputs": [
        {
          "output_type": "execute_result",
          "data": {
            "text/plain": [
              "RandomizedSearchCV(cv=5, estimator=GradientBoostingClassifier(),\n",
              "                   param_distributions={'learning_rate': [0.01, 0.1, 0.2],\n",
              "                                        'max_depth': [3, 4, 5],\n",
              "                                        'n_estimators': [100, 200, 300],\n",
              "                                        'subsample': [0.8, 0.9, 1.0]},\n",
              "                   random_state=42, scoring='roc_auc')"
            ],
            "text/html": [
              "<style>#sk-container-id-4 {color: black;background-color: white;}#sk-container-id-4 pre{padding: 0;}#sk-container-id-4 div.sk-toggleable {background-color: white;}#sk-container-id-4 label.sk-toggleable__label {cursor: pointer;display: block;width: 100%;margin-bottom: 0;padding: 0.3em;box-sizing: border-box;text-align: center;}#sk-container-id-4 label.sk-toggleable__label-arrow:before {content: \"▸\";float: left;margin-right: 0.25em;color: #696969;}#sk-container-id-4 label.sk-toggleable__label-arrow:hover:before {color: black;}#sk-container-id-4 div.sk-estimator:hover label.sk-toggleable__label-arrow:before {color: black;}#sk-container-id-4 div.sk-toggleable__content {max-height: 0;max-width: 0;overflow: hidden;text-align: left;background-color: #f0f8ff;}#sk-container-id-4 div.sk-toggleable__content pre {margin: 0.2em;color: black;border-radius: 0.25em;background-color: #f0f8ff;}#sk-container-id-4 input.sk-toggleable__control:checked~div.sk-toggleable__content {max-height: 200px;max-width: 100%;overflow: auto;}#sk-container-id-4 input.sk-toggleable__control:checked~label.sk-toggleable__label-arrow:before {content: \"▾\";}#sk-container-id-4 div.sk-estimator input.sk-toggleable__control:checked~label.sk-toggleable__label {background-color: #d4ebff;}#sk-container-id-4 div.sk-label input.sk-toggleable__control:checked~label.sk-toggleable__label {background-color: #d4ebff;}#sk-container-id-4 input.sk-hidden--visually {border: 0;clip: rect(1px 1px 1px 1px);clip: rect(1px, 1px, 1px, 1px);height: 1px;margin: -1px;overflow: hidden;padding: 0;position: absolute;width: 1px;}#sk-container-id-4 div.sk-estimator {font-family: monospace;background-color: #f0f8ff;border: 1px dotted black;border-radius: 0.25em;box-sizing: border-box;margin-bottom: 0.5em;}#sk-container-id-4 div.sk-estimator:hover {background-color: #d4ebff;}#sk-container-id-4 div.sk-parallel-item::after {content: \"\";width: 100%;border-bottom: 1px solid gray;flex-grow: 1;}#sk-container-id-4 div.sk-label:hover label.sk-toggleable__label {background-color: #d4ebff;}#sk-container-id-4 div.sk-serial::before {content: \"\";position: absolute;border-left: 1px solid gray;box-sizing: border-box;top: 0;bottom: 0;left: 50%;z-index: 0;}#sk-container-id-4 div.sk-serial {display: flex;flex-direction: column;align-items: center;background-color: white;padding-right: 0.2em;padding-left: 0.2em;position: relative;}#sk-container-id-4 div.sk-item {position: relative;z-index: 1;}#sk-container-id-4 div.sk-parallel {display: flex;align-items: stretch;justify-content: center;background-color: white;position: relative;}#sk-container-id-4 div.sk-item::before, #sk-container-id-4 div.sk-parallel-item::before {content: \"\";position: absolute;border-left: 1px solid gray;box-sizing: border-box;top: 0;bottom: 0;left: 50%;z-index: -1;}#sk-container-id-4 div.sk-parallel-item {display: flex;flex-direction: column;z-index: 1;position: relative;background-color: white;}#sk-container-id-4 div.sk-parallel-item:first-child::after {align-self: flex-end;width: 50%;}#sk-container-id-4 div.sk-parallel-item:last-child::after {align-self: flex-start;width: 50%;}#sk-container-id-4 div.sk-parallel-item:only-child::after {width: 0;}#sk-container-id-4 div.sk-dashed-wrapped {border: 1px dashed gray;margin: 0 0.4em 0.5em 0.4em;box-sizing: border-box;padding-bottom: 0.4em;background-color: white;}#sk-container-id-4 div.sk-label label {font-family: monospace;font-weight: bold;display: inline-block;line-height: 1.2em;}#sk-container-id-4 div.sk-label-container {text-align: center;}#sk-container-id-4 div.sk-container {/* jupyter's `normalize.less` sets `[hidden] { display: none; }` but bootstrap.min.css set `[hidden] { display: none !important; }` so we also need the `!important` here to be able to override the default hidden behavior on the sphinx rendered scikit-learn.org. See: https://github.com/scikit-learn/scikit-learn/issues/21755 */display: inline-block !important;position: relative;}#sk-container-id-4 div.sk-text-repr-fallback {display: none;}</style><div id=\"sk-container-id-4\" class=\"sk-top-container\"><div class=\"sk-text-repr-fallback\"><pre>RandomizedSearchCV(cv=5, estimator=GradientBoostingClassifier(),\n",
              "                   param_distributions={&#x27;learning_rate&#x27;: [0.01, 0.1, 0.2],\n",
              "                                        &#x27;max_depth&#x27;: [3, 4, 5],\n",
              "                                        &#x27;n_estimators&#x27;: [100, 200, 300],\n",
              "                                        &#x27;subsample&#x27;: [0.8, 0.9, 1.0]},\n",
              "                   random_state=42, scoring=&#x27;roc_auc&#x27;)</pre><b>In a Jupyter environment, please rerun this cell to show the HTML representation or trust the notebook. <br />On GitHub, the HTML representation is unable to render, please try loading this page with nbviewer.org.</b></div><div class=\"sk-container\" hidden><div class=\"sk-item sk-dashed-wrapped\"><div class=\"sk-label-container\"><div class=\"sk-label sk-toggleable\"><input class=\"sk-toggleable__control sk-hidden--visually\" id=\"sk-estimator-id-10\" type=\"checkbox\" ><label for=\"sk-estimator-id-10\" class=\"sk-toggleable__label sk-toggleable__label-arrow\">RandomizedSearchCV</label><div class=\"sk-toggleable__content\"><pre>RandomizedSearchCV(cv=5, estimator=GradientBoostingClassifier(),\n",
              "                   param_distributions={&#x27;learning_rate&#x27;: [0.01, 0.1, 0.2],\n",
              "                                        &#x27;max_depth&#x27;: [3, 4, 5],\n",
              "                                        &#x27;n_estimators&#x27;: [100, 200, 300],\n",
              "                                        &#x27;subsample&#x27;: [0.8, 0.9, 1.0]},\n",
              "                   random_state=42, scoring=&#x27;roc_auc&#x27;)</pre></div></div></div><div class=\"sk-parallel\"><div class=\"sk-parallel-item\"><div class=\"sk-item\"><div class=\"sk-label-container\"><div class=\"sk-label sk-toggleable\"><input class=\"sk-toggleable__control sk-hidden--visually\" id=\"sk-estimator-id-11\" type=\"checkbox\" ><label for=\"sk-estimator-id-11\" class=\"sk-toggleable__label sk-toggleable__label-arrow\">estimator: GradientBoostingClassifier</label><div class=\"sk-toggleable__content\"><pre>GradientBoostingClassifier()</pre></div></div></div><div class=\"sk-serial\"><div class=\"sk-item\"><div class=\"sk-estimator sk-toggleable\"><input class=\"sk-toggleable__control sk-hidden--visually\" id=\"sk-estimator-id-12\" type=\"checkbox\" ><label for=\"sk-estimator-id-12\" class=\"sk-toggleable__label sk-toggleable__label-arrow\">GradientBoostingClassifier</label><div class=\"sk-toggleable__content\"><pre>GradientBoostingClassifier()</pre></div></div></div></div></div></div></div></div></div></div>"
            ]
          },
          "metadata": {},
          "execution_count": 39
        }
      ],
      "source": [
        "# Hyperparameter tuning for GBM\n",
        "param_grid_gbm = {'n_estimators': [100, 200, 300], 'learning_rate': [0.01, 0.1, 0.2], 'max_depth': [3, 4, 5], 'subsample': [0.8, 0.9, 1.0]}\n",
        "random_search_gbm = RandomizedSearchCV(gbm, param_grid_gbm, n_iter=10, cv=5, scoring='roc_auc', random_state=42)\n",
        "random_search_gbm.fit(X_train, y_train)"
      ]
    },
    {
      "cell_type": "code",
      "execution_count": 40,
      "metadata": {
        "id": "syQRuqJ_yd0e"
      },
      "outputs": [],
      "source": [
        "# Function to extract GridSearchCV results into a DataFrame\n",
        "def extract_grid_search_results(grid_search):\n",
        "    results = pd.DataFrame(grid_search.cv_results_)\n",
        "    return results"
      ]
    },
    {
      "cell_type": "markdown",
      "metadata": {
        "id": "S04_h2U2yd0e"
      },
      "source": [
        "##### Extract results"
      ]
    },
    {
      "cell_type": "code",
      "execution_count": 41,
      "metadata": {
        "id": "2DyTqeiwyd0f"
      },
      "outputs": [],
      "source": [
        "# Extract results\n",
        "results_log_reg = extract_grid_search_results(grid_search_log_reg)\n",
        "results_dec_tree = extract_grid_search_results(grid_search_dec_tree)"
      ]
    },
    {
      "cell_type": "code",
      "execution_count": 42,
      "metadata": {
        "colab": {
          "base_uri": "https://localhost:8080/",
          "height": 0
        },
        "id": "STfEygFKyd0f",
        "outputId": "3f8d5b9f-3e17-41a9-8775-ac00fe616cd3"
      },
      "outputs": [
        {
          "output_type": "stream",
          "name": "stdout",
          "text": [
            "Logistic Regression GridSearchCV Results:\n",
            "    mean_fit_time  std_fit_time  mean_score_time  std_score_time param_C  \\\n",
            "0       0.048137      0.006255         0.005459        0.001514    0.01   \n",
            "1       0.048809      0.006349         0.005119        0.001313     0.1   \n",
            "2       0.055411      0.008132         0.006349        0.002757       1   \n",
            "3       0.077552      0.011505         0.005298        0.001699      10   \n",
            "4       0.083998      0.010257         0.007452        0.003101     100   \n",
            "\n",
            "        params  split0_test_score  split1_test_score  split2_test_score  \\\n",
            "0  {'C': 0.01}                1.0                1.0                1.0   \n",
            "1   {'C': 0.1}                1.0                1.0                1.0   \n",
            "2     {'C': 1}                1.0                1.0                1.0   \n",
            "3    {'C': 10}                1.0                1.0                1.0   \n",
            "4   {'C': 100}                1.0                1.0                1.0   \n",
            "\n",
            "   split3_test_score  split4_test_score  mean_test_score  std_test_score  \\\n",
            "0                1.0           0.996507         0.999301    1.397206e-03   \n",
            "1                1.0           0.999002         0.999800    3.992016e-04   \n",
            "2                1.0           1.000000         1.000000    4.965068e-17   \n",
            "3                1.0           1.000000         1.000000    7.021667e-17   \n",
            "4                1.0           1.000000         1.000000    0.000000e+00   \n",
            "\n",
            "   rank_test_score  \n",
            "0                5  \n",
            "1                4  \n",
            "2                1  \n",
            "3                1  \n",
            "4                1  \n",
            "Decision Tree GridSearchCV Results:\n",
            "    mean_fit_time  std_fit_time  mean_score_time  std_score_time  \\\n",
            "0       0.006435      0.001172         0.002555        0.000242   \n",
            "1       0.006068      0.000325         0.002654        0.000406   \n",
            "2       0.005800      0.000122         0.002449        0.000073   \n",
            "3       0.005958      0.000224         0.002524        0.000191   \n",
            "4       0.005867      0.000385         0.002516        0.000161   \n",
            "\n",
            "  param_max_depth param_min_samples_leaf param_min_samples_split  \\\n",
            "0            None                      1                       2   \n",
            "1            None                      1                       5   \n",
            "2            None                      1                      10   \n",
            "3            None                      2                       2   \n",
            "4            None                      2                       5   \n",
            "\n",
            "                                              params  split0_test_score  \\\n",
            "0  {'max_depth': None, 'min_samples_leaf': 1, 'mi...                1.0   \n",
            "1  {'max_depth': None, 'min_samples_leaf': 1, 'mi...                1.0   \n",
            "2  {'max_depth': None, 'min_samples_leaf': 1, 'mi...                1.0   \n",
            "3  {'max_depth': None, 'min_samples_leaf': 2, 'mi...                1.0   \n",
            "4  {'max_depth': None, 'min_samples_leaf': 2, 'mi...                1.0   \n",
            "\n",
            "   split1_test_score  split2_test_score  split3_test_score  split4_test_score  \\\n",
            "0                1.0                1.0                1.0                1.0   \n",
            "1                1.0                1.0                1.0                1.0   \n",
            "2                1.0                1.0                1.0                1.0   \n",
            "3                1.0                1.0                1.0                1.0   \n",
            "4                1.0                1.0                1.0                1.0   \n",
            "\n",
            "   mean_test_score  std_test_score  rank_test_score  \n",
            "0              1.0             0.0                1  \n",
            "1              1.0             0.0                1  \n",
            "2              1.0             0.0                1  \n",
            "3              1.0             0.0                1  \n",
            "4              1.0             0.0                1  \n"
          ]
        }
      ],
      "source": [
        "# Display the results DataFrame\n",
        "print(\"Logistic Regression GridSearchCV Results:\\n\", results_log_reg.head())\n",
        "print(\"Decision Tree GridSearchCV Results:\\n\", results_dec_tree.head())"
      ]
    },
    {
      "cell_type": "code",
      "execution_count": 43,
      "metadata": {
        "colab": {
          "base_uri": "https://localhost:8080/",
          "height": 958
        },
        "id": "R3hDj9jbyd0f",
        "outputId": "41a3967e-acda-4826-bf11-0e858122a460"
      },
      "outputs": [
        {
          "output_type": "stream",
          "name": "stdout",
          "text": [
            "Model: Logistic Regression\n",
            "Accuracy: 0.9995355318160706\n",
            "Precision: 0.75\n",
            "Recall: 1.0\n",
            "F1 Score: 0.8571428571428571\n",
            "ROC-AUC: 0.9996124031007751\n",
            "------------------------------\n",
            "Model: Decision Tree\n",
            "Accuracy: 0.9995355318160706\n",
            "Precision: 0.75\n",
            "Recall: 1.0\n",
            "F1 Score: 0.8571428571428571\n",
            "ROC-AUC: 0.9997674418604652\n",
            "------------------------------\n",
            "Model: Random Forest\n",
            "Accuracy: 0.9990710636321412\n",
            "Precision: 0.6666666666666666\n",
            "Recall: 0.6666666666666666\n",
            "F1 Score: 0.6666666666666666\n",
            "ROC-AUC: 0.9997674418604651\n",
            "------------------------------\n",
            "Model: Gradient Boosting\n",
            "Accuracy: 0.9995355318160706\n",
            "Precision: 0.75\n",
            "Recall: 1.0\n",
            "F1 Score: 0.8571428571428571\n",
            "ROC-AUC: 0.9997674418604652\n",
            "------------------------------\n"
          ]
        },
        {
          "output_type": "display_data",
          "data": {
            "text/plain": [
              "<Figure size 640x480 with 1 Axes>"
            ],
            "image/png": "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\n"
          },
          "metadata": {}
        }
      ],
      "source": [
        "# Model evaluation\n",
        "models = {\n",
        "    'Logistic Regression': grid_search_log_reg.best_estimator_,\n",
        "    'Decision Tree': grid_search_dec_tree.best_estimator_,\n",
        "    'Random Forest': random_search_rand_forest.best_estimator_,\n",
        "    'Gradient Boosting': random_search_gbm.best_estimator_\n",
        "}\n",
        "\n",
        "for model_name, model in models.items():\n",
        "    y_pred = model.predict(X_test)\n",
        "    y_pred_prob = model.predict_proba(X_test)[:, 1]\n",
        "    print(f\"Model: {model_name}\")\n",
        "    print(f\"Accuracy: {accuracy_score(y_test, y_pred)}\")\n",
        "    print(f\"Precision: {precision_score(y_test, y_pred, pos_label=1)}\")\n",
        "    print(f\"Recall: {recall_score(y_test, y_pred, pos_label=1)}\")\n",
        "    print(f\"F1 Score: {f1_score(y_test, y_pred, pos_label=1)}\")\n",
        "    print(f\"ROC-AUC: {roc_auc_score(y_test, y_pred_prob)}\")\n",
        "    print(\"-\" * 30)\n",
        "\n",
        "    # Plot ROC curve\n",
        "    fpr, tpr, _ = roc_curve(y_test, y_pred_prob)\n",
        "    plt.plot(fpr, tpr, label=f'{model_name} (AUC = {roc_auc_score(y_test, y_pred_prob):.2f})')\n",
        "\n",
        "# Finalize the ROC curve plot\n",
        "plt.xlabel('False Positive Rate')\n",
        "plt.ylabel('True Positive Rate')\n",
        "plt.title('ROC Curve')\n",
        "plt.legend(loc='lower right')\n",
        "plt.grid()\n",
        "plt.show()"
      ]
    },
    {
      "cell_type": "code",
      "execution_count": 44,
      "metadata": {
        "id": "ndYWuykhyd0f"
      },
      "outputs": [],
      "source": [
        "# Function to assign risk probability\n",
        "def assign_risk_probability(model, customer_data):\n",
        "    risk_probability = model.predict_proba(customer_data)[:, 1]\n",
        "    return risk_probability"
      ]
    },
    {
      "cell_type": "code",
      "execution_count": 45,
      "metadata": {
        "id": "SbnpmgKIyd0f"
      },
      "outputs": [],
      "source": [
        "# Function to map risk probability to credit score\n",
        "def risk_probability_to_credit_score(risk_probability):\n",
        "    # Example mapping function - can be adjusted\n",
        "    credit_score = 850 - (risk_probability * 550)\n",
        "    return credit_score"
      ]
    },
    {
      "cell_type": "code",
      "execution_count": 46,
      "metadata": {
        "id": "_wpHSQDCyd0f"
      },
      "outputs": [],
      "source": [
        "# Train loan prediction models\n",
        "def train_loan_prediction_models(data):\n",
        "    # Assuming 'loan_amount' and 'loan_duration' are available in your dataset\n",
        "    # Features for prediction\n",
        "    features = data.drop(columns=['loan_amount', 'loan_duration'])\n",
        "    X = features\n",
        "\n",
        "    # Predicting loan amount\n",
        "    y_amount = data['loan_amount']\n",
        "    amount_model = LinearRegression()\n",
        "    amount_model.fit(X, y_amount)\n",
        "\n",
        "    # Predicting loan duration\n",
        "    y_duration = data['loan_duration']\n",
        "    duration_model = LinearRegression()\n",
        "    duration_model.fit(X, y_duration)\n",
        "\n",
        "    return amount_model, duration_model"
      ]
    },
    {
      "cell_type": "code",
      "execution_count": 47,
      "metadata": {
        "id": "-1_xUWq1yd0f"
      },
      "outputs": [],
      "source": [
        "def predict_loan_amount_duration(amount_model, duration_model, customer_data):\n",
        "    optimal_amount = amount_model.predict(customer_data)\n",
        "    optimal_duration = duration_model.predict(customer_data)\n",
        "    return optimal_amount, optimal_duration"
      ]
    }
  ],
  "metadata": {
    "kernelspec": {
      "display_name": ".venv",
      "language": "python",
      "name": "python3"
    },
    "language_info": {
      "codemirror_mode": {
        "name": "ipython",
        "version": 3
      },
      "file_extension": ".py",
      "mimetype": "text/x-python",
      "name": "python",
      "nbconvert_exporter": "python",
      "pygments_lexer": "ipython3",
      "version": "3.12.2"
    },
    "colab": {
      "provenance": [],
      "include_colab_link": true
    }
  },
<<<<<<< HEAD
  {
   "cell_type": "code",
   "execution_count": 26,
   "metadata": {},
   "outputs": [],
   "source": [
    "# Hyperparameter tuning for GBM\n",
    "param_grid_gbm = {'n_estimators': [100, 200, 300], 'learning_rate': [0.01, 0.1, 0.2], 'max_depth': [3, 4, 5], 'subsample': [0.8, 0.9, 1.0]}\n",
    "random_search_gbm = RandomizedSearchCV(gbm, param_grid_gbm, n_iter=10, cv=5, scoring='roc_auc', random_state=42)\n",
    "random_search_gbm.fit(X_train, y_train)"
   ]
  },
  {
   "cell_type": "code",
   "execution_count": null,
   "metadata": {},
   "outputs": [],
   "source": [
    "# Function to extract GridSearchCV results into a DataFrame\n",
    "def extract_grid_search_results(grid_search):\n",
    "    results = pd.DataFrame(grid_search.cv_results_)\n",
    "    return results"
   ]
  },
  {
   "cell_type": "markdown",
   "metadata": {},
   "source": [
    "##### Extract results"
   ]
  },
  {
   "cell_type": "code",
   "execution_count": null,
   "metadata": {},
   "outputs": [],
   "source": [
    "# Extract results\n",
    "results_log_reg = extract_grid_search_results(grid_search_log_reg)\n",
    "results_dec_tree = extract_grid_search_results(grid_search_dec_tree)"
   ]
  },
  {
   "cell_type": "code",
   "execution_count": null,
   "metadata": {},
   "outputs": [],
   "source": [
    "# Display the results DataFrame\n",
    "print(\"Logistic Regression GridSearchCV Results:\\n\", results_log_reg.head())\n",
    "print(\"Decision Tree GridSearchCV Results:\\n\", results_dec_tree.head())"
   ]
  },
  {
   "cell_type": "code",
   "execution_count": null,
   "metadata": {},
   "outputs": [],
   "source": [
    "# Model evaluation\n",
    "models = {\n",
    "    'Logistic Regression': grid_search_log_reg.best_estimator_,\n",
    "    'Decision Tree': grid_search_dec_tree.best_estimator_,\n",
    "    'Random Forest': random_search_rand_forest.best_estimator_,\n",
    "    'Gradient Boosting': random_search_gbm.best_estimator_\n",
    "}\n",
    "\n",
    "for model_name, model in models.items():\n",
    "    y_pred = model.predict(X_test)\n",
    "    y_pred_prob = model.predict_proba(X_test)[:, 1]\n",
    "    print(f\"Model: {model_name}\")\n",
    "    print(f\"Accuracy: {accuracy_score(y_test, y_pred)}\")\n",
    "    print(f\"Precision: {precision_score(y_test, y_pred, pos_label=1)}\")\n",
    "    print(f\"Recall: {recall_score(y_test, y_pred, pos_label=1)}\")\n",
    "    print(f\"F1 Score: {f1_score(y_test, y_pred, pos_label=1)}\")\n",
    "    print(f\"ROC-AUC: {roc_auc_score(y_test, y_pred_prob)}\")\n",
    "    print(\"-\" * 30)\n",
    "\n",
    "    # Plot ROC curve\n",
    "    fpr, tpr, _ = roc_curve(y_test, y_pred_prob)\n",
    "    plt.plot(fpr, tpr, label=f'{model_name} (AUC = {roc_auc_score(y_test, y_pred_prob):.2f})')\n",
    "\n",
    "# Finalize the ROC curve plot\n",
    "plt.xlabel('False Positive Rate')\n",
    "plt.ylabel('True Positive Rate')\n",
    "plt.title('ROC Curve')\n",
    "plt.legend(loc='lower right')\n",
    "plt.grid()\n",
    "plt.show()"
   ]
  },
  {
   "cell_type": "code",
   "execution_count": null,
   "metadata": {},
   "outputs": [],
   "source": [
    "# Function to assign risk probability\n",
    "def assign_risk_probability(model, customer_data):\n",
    "    risk_probability = model.predict_proba(customer_data)[:, 1]\n",
    "    return risk_probability"
   ]
  },
  {
   "cell_type": "code",
   "execution_count": null,
   "metadata": {},
   "outputs": [],
   "source": [
    "# Function to map risk probability to credit score\n",
    "def risk_probability_to_credit_score(risk_probability):\n",
    "    # Example mapping function - can be adjusted\n",
    "    credit_score = 850 - (risk_probability * 550)\n",
    "    return credit_score"
   ]
  },
  {
   "cell_type": "code",
   "execution_count": null,
   "metadata": {},
   "outputs": [],
   "source": [
    "# Train loan prediction models\n",
    "def train_loan_prediction_models(data):\n",
    "    # Assuming 'loan_amount' and 'loan_duration' are available in your dataset\n",
    "    # Features for prediction\n",
    "    features = data.drop(columns=['loan_amount', 'loan_duration'])\n",
    "    X = features\n",
    "\n",
    "    # Predicting loan amount\n",
    "    y_amount = data['loan_amount']\n",
    "    amount_model = LinearRegression()\n",
    "    amount_model.fit(X, y_amount)\n",
    "\n",
    "    # Predicting loan duration\n",
    "    y_duration = data['loan_duration']\n",
    "    duration_model = LinearRegression()\n",
    "    duration_model.fit(X, y_duration)\n",
    "\n",
    "    return amount_model, duration_model"
   ]
  },
  {
   "cell_type": "code",
   "execution_count": null,
   "metadata": {},
   "outputs": [],
   "source": [
    "def predict_loan_amount_duration(amount_model, duration_model, customer_data):\n",
    "    optimal_amount = amount_model.predict(customer_data)\n",
    "    optimal_duration = duration_model.predict(customer_data)\n",
    "    return optimal_amount, optimal_duration"
   ]
  },
  {
   "cell_type": "markdown",
   "metadata": {},
   "source": [
    "#### Model to Assign Risk Probability for a New Customer"
   ]
  },
  {
   "cell_type": "code",
   "execution_count": 1,
   "metadata": {},
   "outputs": [
    {
     "ename": "FileNotFoundError",
     "evalue": "[Errno 2] No such file or directory: 'processed_data.csv'",
     "output_type": "error",
     "traceback": [
      "\u001b[1;31m---------------------------------------------------------------------------\u001b[0m",
      "\u001b[1;31mFileNotFoundError\u001b[0m                         Traceback (most recent call last)",
      "Cell \u001b[1;32mIn[1], line 13\u001b[0m\n\u001b[0;32m     10\u001b[0m \u001b[38;5;28;01mimport\u001b[39;00m \u001b[38;5;21;01mmatplotlib\u001b[39;00m\u001b[38;5;21;01m.\u001b[39;00m\u001b[38;5;21;01mpyplot\u001b[39;00m \u001b[38;5;28;01mas\u001b[39;00m \u001b[38;5;21;01mplt\u001b[39;00m\n\u001b[0;32m     12\u001b[0m \u001b[38;5;66;03m# Load the data\u001b[39;00m\n\u001b[1;32m---> 13\u001b[0m data \u001b[38;5;241m=\u001b[39m \u001b[43mpd\u001b[49m\u001b[38;5;241;43m.\u001b[39;49m\u001b[43mread_csv\u001b[49m\u001b[43m(\u001b[49m\u001b[38;5;124;43m'\u001b[39;49m\u001b[38;5;124;43mprocessed_data.csv\u001b[39;49m\u001b[38;5;124;43m'\u001b[39;49m\u001b[43m)\u001b[49m\n\u001b[0;32m     15\u001b[0m \u001b[38;5;66;03m# Preprocessing steps as before\u001b[39;00m\n\u001b[0;32m     16\u001b[0m data\u001b[38;5;241m.\u001b[39mdrop(columns\u001b[38;5;241m=\u001b[39m[\u001b[38;5;124m'\u001b[39m\u001b[38;5;124mTransactionId\u001b[39m\u001b[38;5;124m'\u001b[39m, \u001b[38;5;124m'\u001b[39m\u001b[38;5;124mBatchId\u001b[39m\u001b[38;5;124m'\u001b[39m, \u001b[38;5;124m'\u001b[39m\u001b[38;5;124mAccountId\u001b[39m\u001b[38;5;124m'\u001b[39m, \u001b[38;5;124m'\u001b[39m\u001b[38;5;124mSubscriptionId\u001b[39m\u001b[38;5;124m'\u001b[39m, \u001b[38;5;124m'\u001b[39m\u001b[38;5;124mCustomerId\u001b[39m\u001b[38;5;124m'\u001b[39m], inplace\u001b[38;5;241m=\u001b[39m\u001b[38;5;28;01mTrue\u001b[39;00m)\n",
      "File \u001b[1;32md:\\credit scoring system\\.venv\\Lib\\site-packages\\pandas\\io\\parsers\\readers.py:1026\u001b[0m, in \u001b[0;36mread_csv\u001b[1;34m(filepath_or_buffer, sep, delimiter, header, names, index_col, usecols, dtype, engine, converters, true_values, false_values, skipinitialspace, skiprows, skipfooter, nrows, na_values, keep_default_na, na_filter, verbose, skip_blank_lines, parse_dates, infer_datetime_format, keep_date_col, date_parser, date_format, dayfirst, cache_dates, iterator, chunksize, compression, thousands, decimal, lineterminator, quotechar, quoting, doublequote, escapechar, comment, encoding, encoding_errors, dialect, on_bad_lines, delim_whitespace, low_memory, memory_map, float_precision, storage_options, dtype_backend)\u001b[0m\n\u001b[0;32m   1013\u001b[0m kwds_defaults \u001b[38;5;241m=\u001b[39m _refine_defaults_read(\n\u001b[0;32m   1014\u001b[0m     dialect,\n\u001b[0;32m   1015\u001b[0m     delimiter,\n\u001b[1;32m   (...)\u001b[0m\n\u001b[0;32m   1022\u001b[0m     dtype_backend\u001b[38;5;241m=\u001b[39mdtype_backend,\n\u001b[0;32m   1023\u001b[0m )\n\u001b[0;32m   1024\u001b[0m kwds\u001b[38;5;241m.\u001b[39mupdate(kwds_defaults)\n\u001b[1;32m-> 1026\u001b[0m \u001b[38;5;28;01mreturn\u001b[39;00m \u001b[43m_read\u001b[49m\u001b[43m(\u001b[49m\u001b[43mfilepath_or_buffer\u001b[49m\u001b[43m,\u001b[49m\u001b[43m \u001b[49m\u001b[43mkwds\u001b[49m\u001b[43m)\u001b[49m\n",
      "File \u001b[1;32md:\\credit scoring system\\.venv\\Lib\\site-packages\\pandas\\io\\parsers\\readers.py:620\u001b[0m, in \u001b[0;36m_read\u001b[1;34m(filepath_or_buffer, kwds)\u001b[0m\n\u001b[0;32m    617\u001b[0m _validate_names(kwds\u001b[38;5;241m.\u001b[39mget(\u001b[38;5;124m\"\u001b[39m\u001b[38;5;124mnames\u001b[39m\u001b[38;5;124m\"\u001b[39m, \u001b[38;5;28;01mNone\u001b[39;00m))\n\u001b[0;32m    619\u001b[0m \u001b[38;5;66;03m# Create the parser.\u001b[39;00m\n\u001b[1;32m--> 620\u001b[0m parser \u001b[38;5;241m=\u001b[39m \u001b[43mTextFileReader\u001b[49m\u001b[43m(\u001b[49m\u001b[43mfilepath_or_buffer\u001b[49m\u001b[43m,\u001b[49m\u001b[43m \u001b[49m\u001b[38;5;241;43m*\u001b[39;49m\u001b[38;5;241;43m*\u001b[39;49m\u001b[43mkwds\u001b[49m\u001b[43m)\u001b[49m\n\u001b[0;32m    622\u001b[0m \u001b[38;5;28;01mif\u001b[39;00m chunksize \u001b[38;5;129;01mor\u001b[39;00m iterator:\n\u001b[0;32m    623\u001b[0m     \u001b[38;5;28;01mreturn\u001b[39;00m parser\n",
      "File \u001b[1;32md:\\credit scoring system\\.venv\\Lib\\site-packages\\pandas\\io\\parsers\\readers.py:1620\u001b[0m, in \u001b[0;36mTextFileReader.__init__\u001b[1;34m(self, f, engine, **kwds)\u001b[0m\n\u001b[0;32m   1617\u001b[0m     \u001b[38;5;28mself\u001b[39m\u001b[38;5;241m.\u001b[39moptions[\u001b[38;5;124m\"\u001b[39m\u001b[38;5;124mhas_index_names\u001b[39m\u001b[38;5;124m\"\u001b[39m] \u001b[38;5;241m=\u001b[39m kwds[\u001b[38;5;124m\"\u001b[39m\u001b[38;5;124mhas_index_names\u001b[39m\u001b[38;5;124m\"\u001b[39m]\n\u001b[0;32m   1619\u001b[0m \u001b[38;5;28mself\u001b[39m\u001b[38;5;241m.\u001b[39mhandles: IOHandles \u001b[38;5;241m|\u001b[39m \u001b[38;5;28;01mNone\u001b[39;00m \u001b[38;5;241m=\u001b[39m \u001b[38;5;28;01mNone\u001b[39;00m\n\u001b[1;32m-> 1620\u001b[0m \u001b[38;5;28mself\u001b[39m\u001b[38;5;241m.\u001b[39m_engine \u001b[38;5;241m=\u001b[39m \u001b[38;5;28;43mself\u001b[39;49m\u001b[38;5;241;43m.\u001b[39;49m\u001b[43m_make_engine\u001b[49m\u001b[43m(\u001b[49m\u001b[43mf\u001b[49m\u001b[43m,\u001b[49m\u001b[43m \u001b[49m\u001b[38;5;28;43mself\u001b[39;49m\u001b[38;5;241;43m.\u001b[39;49m\u001b[43mengine\u001b[49m\u001b[43m)\u001b[49m\n",
      "File \u001b[1;32md:\\credit scoring system\\.venv\\Lib\\site-packages\\pandas\\io\\parsers\\readers.py:1880\u001b[0m, in \u001b[0;36mTextFileReader._make_engine\u001b[1;34m(self, f, engine)\u001b[0m\n\u001b[0;32m   1878\u001b[0m     \u001b[38;5;28;01mif\u001b[39;00m \u001b[38;5;124m\"\u001b[39m\u001b[38;5;124mb\u001b[39m\u001b[38;5;124m\"\u001b[39m \u001b[38;5;129;01mnot\u001b[39;00m \u001b[38;5;129;01min\u001b[39;00m mode:\n\u001b[0;32m   1879\u001b[0m         mode \u001b[38;5;241m+\u001b[39m\u001b[38;5;241m=\u001b[39m \u001b[38;5;124m\"\u001b[39m\u001b[38;5;124mb\u001b[39m\u001b[38;5;124m\"\u001b[39m\n\u001b[1;32m-> 1880\u001b[0m \u001b[38;5;28mself\u001b[39m\u001b[38;5;241m.\u001b[39mhandles \u001b[38;5;241m=\u001b[39m \u001b[43mget_handle\u001b[49m\u001b[43m(\u001b[49m\n\u001b[0;32m   1881\u001b[0m \u001b[43m    \u001b[49m\u001b[43mf\u001b[49m\u001b[43m,\u001b[49m\n\u001b[0;32m   1882\u001b[0m \u001b[43m    \u001b[49m\u001b[43mmode\u001b[49m\u001b[43m,\u001b[49m\n\u001b[0;32m   1883\u001b[0m \u001b[43m    \u001b[49m\u001b[43mencoding\u001b[49m\u001b[38;5;241;43m=\u001b[39;49m\u001b[38;5;28;43mself\u001b[39;49m\u001b[38;5;241;43m.\u001b[39;49m\u001b[43moptions\u001b[49m\u001b[38;5;241;43m.\u001b[39;49m\u001b[43mget\u001b[49m\u001b[43m(\u001b[49m\u001b[38;5;124;43m\"\u001b[39;49m\u001b[38;5;124;43mencoding\u001b[39;49m\u001b[38;5;124;43m\"\u001b[39;49m\u001b[43m,\u001b[49m\u001b[43m \u001b[49m\u001b[38;5;28;43;01mNone\u001b[39;49;00m\u001b[43m)\u001b[49m\u001b[43m,\u001b[49m\n\u001b[0;32m   1884\u001b[0m \u001b[43m    \u001b[49m\u001b[43mcompression\u001b[49m\u001b[38;5;241;43m=\u001b[39;49m\u001b[38;5;28;43mself\u001b[39;49m\u001b[38;5;241;43m.\u001b[39;49m\u001b[43moptions\u001b[49m\u001b[38;5;241;43m.\u001b[39;49m\u001b[43mget\u001b[49m\u001b[43m(\u001b[49m\u001b[38;5;124;43m\"\u001b[39;49m\u001b[38;5;124;43mcompression\u001b[39;49m\u001b[38;5;124;43m\"\u001b[39;49m\u001b[43m,\u001b[49m\u001b[43m \u001b[49m\u001b[38;5;28;43;01mNone\u001b[39;49;00m\u001b[43m)\u001b[49m\u001b[43m,\u001b[49m\n\u001b[0;32m   1885\u001b[0m \u001b[43m    \u001b[49m\u001b[43mmemory_map\u001b[49m\u001b[38;5;241;43m=\u001b[39;49m\u001b[38;5;28;43mself\u001b[39;49m\u001b[38;5;241;43m.\u001b[39;49m\u001b[43moptions\u001b[49m\u001b[38;5;241;43m.\u001b[39;49m\u001b[43mget\u001b[49m\u001b[43m(\u001b[49m\u001b[38;5;124;43m\"\u001b[39;49m\u001b[38;5;124;43mmemory_map\u001b[39;49m\u001b[38;5;124;43m\"\u001b[39;49m\u001b[43m,\u001b[49m\u001b[43m \u001b[49m\u001b[38;5;28;43;01mFalse\u001b[39;49;00m\u001b[43m)\u001b[49m\u001b[43m,\u001b[49m\n\u001b[0;32m   1886\u001b[0m \u001b[43m    \u001b[49m\u001b[43mis_text\u001b[49m\u001b[38;5;241;43m=\u001b[39;49m\u001b[43mis_text\u001b[49m\u001b[43m,\u001b[49m\n\u001b[0;32m   1887\u001b[0m \u001b[43m    \u001b[49m\u001b[43merrors\u001b[49m\u001b[38;5;241;43m=\u001b[39;49m\u001b[38;5;28;43mself\u001b[39;49m\u001b[38;5;241;43m.\u001b[39;49m\u001b[43moptions\u001b[49m\u001b[38;5;241;43m.\u001b[39;49m\u001b[43mget\u001b[49m\u001b[43m(\u001b[49m\u001b[38;5;124;43m\"\u001b[39;49m\u001b[38;5;124;43mencoding_errors\u001b[39;49m\u001b[38;5;124;43m\"\u001b[39;49m\u001b[43m,\u001b[49m\u001b[43m \u001b[49m\u001b[38;5;124;43m\"\u001b[39;49m\u001b[38;5;124;43mstrict\u001b[39;49m\u001b[38;5;124;43m\"\u001b[39;49m\u001b[43m)\u001b[49m\u001b[43m,\u001b[49m\n\u001b[0;32m   1888\u001b[0m \u001b[43m    \u001b[49m\u001b[43mstorage_options\u001b[49m\u001b[38;5;241;43m=\u001b[39;49m\u001b[38;5;28;43mself\u001b[39;49m\u001b[38;5;241;43m.\u001b[39;49m\u001b[43moptions\u001b[49m\u001b[38;5;241;43m.\u001b[39;49m\u001b[43mget\u001b[49m\u001b[43m(\u001b[49m\u001b[38;5;124;43m\"\u001b[39;49m\u001b[38;5;124;43mstorage_options\u001b[39;49m\u001b[38;5;124;43m\"\u001b[39;49m\u001b[43m,\u001b[49m\u001b[43m \u001b[49m\u001b[38;5;28;43;01mNone\u001b[39;49;00m\u001b[43m)\u001b[49m\u001b[43m,\u001b[49m\n\u001b[0;32m   1889\u001b[0m \u001b[43m\u001b[49m\u001b[43m)\u001b[49m\n\u001b[0;32m   1890\u001b[0m \u001b[38;5;28;01massert\u001b[39;00m \u001b[38;5;28mself\u001b[39m\u001b[38;5;241m.\u001b[39mhandles \u001b[38;5;129;01mis\u001b[39;00m \u001b[38;5;129;01mnot\u001b[39;00m \u001b[38;5;28;01mNone\u001b[39;00m\n\u001b[0;32m   1891\u001b[0m f \u001b[38;5;241m=\u001b[39m \u001b[38;5;28mself\u001b[39m\u001b[38;5;241m.\u001b[39mhandles\u001b[38;5;241m.\u001b[39mhandle\n",
      "File \u001b[1;32md:\\credit scoring system\\.venv\\Lib\\site-packages\\pandas\\io\\common.py:873\u001b[0m, in \u001b[0;36mget_handle\u001b[1;34m(path_or_buf, mode, encoding, compression, memory_map, is_text, errors, storage_options)\u001b[0m\n\u001b[0;32m    868\u001b[0m \u001b[38;5;28;01melif\u001b[39;00m \u001b[38;5;28misinstance\u001b[39m(handle, \u001b[38;5;28mstr\u001b[39m):\n\u001b[0;32m    869\u001b[0m     \u001b[38;5;66;03m# Check whether the filename is to be opened in binary mode.\u001b[39;00m\n\u001b[0;32m    870\u001b[0m     \u001b[38;5;66;03m# Binary mode does not support 'encoding' and 'newline'.\u001b[39;00m\n\u001b[0;32m    871\u001b[0m     \u001b[38;5;28;01mif\u001b[39;00m ioargs\u001b[38;5;241m.\u001b[39mencoding \u001b[38;5;129;01mand\u001b[39;00m \u001b[38;5;124m\"\u001b[39m\u001b[38;5;124mb\u001b[39m\u001b[38;5;124m\"\u001b[39m \u001b[38;5;129;01mnot\u001b[39;00m \u001b[38;5;129;01min\u001b[39;00m ioargs\u001b[38;5;241m.\u001b[39mmode:\n\u001b[0;32m    872\u001b[0m         \u001b[38;5;66;03m# Encoding\u001b[39;00m\n\u001b[1;32m--> 873\u001b[0m         handle \u001b[38;5;241m=\u001b[39m \u001b[38;5;28;43mopen\u001b[39;49m\u001b[43m(\u001b[49m\n\u001b[0;32m    874\u001b[0m \u001b[43m            \u001b[49m\u001b[43mhandle\u001b[49m\u001b[43m,\u001b[49m\n\u001b[0;32m    875\u001b[0m \u001b[43m            \u001b[49m\u001b[43mioargs\u001b[49m\u001b[38;5;241;43m.\u001b[39;49m\u001b[43mmode\u001b[49m\u001b[43m,\u001b[49m\n\u001b[0;32m    876\u001b[0m \u001b[43m            \u001b[49m\u001b[43mencoding\u001b[49m\u001b[38;5;241;43m=\u001b[39;49m\u001b[43mioargs\u001b[49m\u001b[38;5;241;43m.\u001b[39;49m\u001b[43mencoding\u001b[49m\u001b[43m,\u001b[49m\n\u001b[0;32m    877\u001b[0m \u001b[43m            \u001b[49m\u001b[43merrors\u001b[49m\u001b[38;5;241;43m=\u001b[39;49m\u001b[43merrors\u001b[49m\u001b[43m,\u001b[49m\n\u001b[0;32m    878\u001b[0m \u001b[43m            \u001b[49m\u001b[43mnewline\u001b[49m\u001b[38;5;241;43m=\u001b[39;49m\u001b[38;5;124;43m\"\u001b[39;49m\u001b[38;5;124;43m\"\u001b[39;49m\u001b[43m,\u001b[49m\n\u001b[0;32m    879\u001b[0m \u001b[43m        \u001b[49m\u001b[43m)\u001b[49m\n\u001b[0;32m    880\u001b[0m     \u001b[38;5;28;01melse\u001b[39;00m:\n\u001b[0;32m    881\u001b[0m         \u001b[38;5;66;03m# Binary mode\u001b[39;00m\n\u001b[0;32m    882\u001b[0m         handle \u001b[38;5;241m=\u001b[39m \u001b[38;5;28mopen\u001b[39m(handle, ioargs\u001b[38;5;241m.\u001b[39mmode)\n",
      "\u001b[1;31mFileNotFoundError\u001b[0m: [Errno 2] No such file or directory: 'processed_data.csv'"
     ]
    }
   ],
   "source": [
    "# Import necessary libraries\n",
    "import pandas as pd\n",
    "import numpy as np\n",
    "from sklearn.preprocessing import StandardScaler\n",
    "from sklearn.model_selection import train_test_split, RandomizedSearchCV\n",
    "from sklearn.ensemble import RandomForestClassifier, GradientBoostingClassifier\n",
    "from sklearn.metrics import accuracy_score, precision_score, recall_score, f1_score, roc_auc_score, roc_curve\n",
    "import matplotlib.pyplot as plt\n",
    "\n",
    "# Load the data\n",
    "data = pd.read_csv('processed_data.csv')\n",
    "\n",
    "# Dropping unique identifier columns and other non-numeric columns\n",
    "data.drop(columns=['TransactionId', 'BatchId', 'AccountId', 'SubscriptionId', 'CustomerId'], inplace=True)\n",
    "\n",
    "# Encoding categorical variables\n",
    "data = pd.get_dummies(data, columns=['CurrencyCode', 'CountryCode', 'ProviderId', 'ProductId', 'ProductCategory', 'ChannelId'])\n",
    "\n",
    "# Convert boolean columns to integers\n",
    "bool_columns = data.select_dtypes(include=['bool']).columns\n",
    "data[bool_columns] = data[bool_columns].astype(int)\n",
    "\n",
    "# Drop the 'TransactionStartTime' column since it is non-numeric\n",
    "data.drop(columns=['TransactionStartTime'], inplace=True)\n",
    "\n",
    "# Ensure the target variable is categorical\n",
    "data['FraudResult'] = data['FraudResult'].astype(int)\n",
    "\n",
    "# Define features and target\n",
    "X = data.drop('FraudResult', axis=1)\n",
    "y = data['FraudResult']\n",
    "\n",
    "# Split the data into training and testing sets\n",
    "X_train, X_test, y_train, y_test = train_test_split(X, y, test_size=0.3, random_state=42)\n",
    "\n",
    "# Scale numeric features\n",
    "scaler = StandardScaler()\n",
    "X_train = scaler.fit_transform(X_train)\n",
    "X_test = scaler.transform(X_test)\n",
    "\n",
    "# Initialize models\n",
    "rand_forest = RandomForestClassifier(random_state=42)\n",
    "gbm = GradientBoostingClassifier(random_state=42)\n",
    "\n",
    "# Hyperparameter tuning for Random Forest\n",
    "param_grid_rand_forest = {\n",
    "    'n_estimators': [100, 200, 300],\n",
    "    'max_depth': [None, 10, 20, 30],\n",
    "    'min_samples_split': [2, 5, 10],\n",
    "    'min_samples_leaf': [1, 2, 5]\n",
    "}\n",
    "\n",
    "random_search_rand_forest = RandomizedSearchCV(rand_forest, param_grid_rand_forest, n_iter=10, cv=5, scoring='roc_auc', random_state=42)\n",
    "random_search_rand_forest.fit(X_train, y_train)\n",
    "\n",
    "# Hyperparameter tuning for GBM\n",
    "param_grid_gbm = {\n",
    "    'n_estimators': [100, 200, 300],\n",
    "    'learning_rate': [0.01, 0.1, 0.2],\n",
    "    'max_depth': [3, 4, 5],\n",
    "    'subsample': [0.8, 0.9, 1.0]\n",
    "}\n",
    "\n",
    "random_search_gbm = RandomizedSearchCV(gbm, param_grid_gbm, n_iter=10, cv=5, scoring='roc_auc', random_state=42)\n",
    "random_search_gbm.fit(X_train, y_train)\n",
    "\n",
    "# Model evaluation\n",
    "models = {\n",
    "    'Random Forest': random_search_rand_forest.best_estimator_,\n",
    "    'Gradient Boosting': random_search_gbm.best_estimator_\n",
    "}\n",
    "\n",
    "for model_name, model in models.items():\n",
    "    y_pred = model.predict(X_test)\n",
    "    y_pred_prob = model.predict_proba(X_test)[:, 1]\n",
    "    print(f\"Model: {model_name}\")\n",
    "    print(f\"Accuracy: {accuracy_score(y_test, y_pred)}\")\n",
    "    print(f\"Precision: {precision_score(y_test, y_pred, pos_label=1)}\")\n",
    "    print(f\"Recall: {recall_score(y_test, y_pred, pos_label=1)}\")\n",
    "    print(f\"F1 Score: {f1_score(y_test, y_pred, pos_label=1)}\")\n",
    "    print(f\"ROC-AUC: {roc_auc_score(y_test, y_pred_prob)}\")\n",
    "    print(\"-\" * 30)\n",
    "\n",
    "    # Plot ROC curve\n",
    "    fpr, tpr, _ = roc_curve(y_test, y_pred_prob)\n",
    "    plt.plot(fpr, tpr, label=f'{model_name} (AUC = {roc_auc_score(y_test, y_pred_prob):.2f})')\n",
    "\n",
    "# Finalize the ROC curve plot\n",
    "plt.xlabel('False Positive Rate')\n",
    "plt.ylabel('True Positive Rate')\n",
    "plt.title('ROC Curve')\n",
    "plt.legend(loc='lower right')\n",
    "plt.grid()\n",
    "plt.show()\n",
    "\n",
    "# Model to assign risk probability for a new customer\n",
    "def assign_risk_probability(new_customer_data):\n",
    "    new_customer_data = scaler.transform(new_customer_data)\n",
    "    risk_prob = random_search_rand_forest.best_estimator_.predict_proba(new_customer_data)[:, 1]\n",
    "    return risk_prob"
   ]
  },
  {
   "cell_type": "markdown",
   "metadata": {},
   "source": [
    "#### Model to Assign Credit Score from Risk Probability Estimates"
   ]
  },
  {
   "cell_type": "code",
   "execution_count": null,
   "metadata": {},
   "outputs": [],
   "source": [
    "# Model to assign credit score from risk probability estimates\n",
    "def assign_credit_score(risk_prob):\n",
    "    credit_score = np.where(risk_prob <= 0.2, 'Excellent',\n",
    "                            np.where(risk_prob <= 0.4, 'Good',\n",
    "                                     np.where(risk_prob <= 0.6, 'Fair',\n",
    "                                              np.where(risk_prob <= 0.8, 'Poor', 'Very Poor'))))\n",
    "    return credit_score"
   ]
  },
  {
   "cell_type": "markdown",
   "metadata": {},
   "source": [
    "#### Model to Predict the Optimal Amount and Duration of the Loan"
   ]
  },
  {
   "cell_type": "code",
   "execution_count": null,
   "metadata": {},
   "outputs": [],
   "source": [
    "# Model to predict the optimal amount and duration of the loan\n",
    "def predict_optimal_loan_amount_and_duration(risk_prob):\n",
    "    max_loan_amount = np.where(risk_prob <= 0.2, 50000,\n",
    "                               np.where(risk_prob <= 0.4, 25000,\n",
    "                                        np.where(risk_prob <= 0.6, 10000,\n",
    "                                                 np.where(risk_prob <= 0.8, 5000, 1000))))\n",
    "    loan_duration_months = np.where(risk_prob <= 0.2, 60,\n",
    "                                    np.where(risk_prob <= 0.4, 48,\n",
    "                                             np.where(risk_prob <= 0.6, 36,\n",
    "                                                      np.where(risk_prob <= 0.8, 24, 12))))\n",
    "    return max_loan_amount, loan_duration_months"
   ]
  },
  {
   "cell_type": "markdown",
   "metadata": {},
   "source": [
    "#### Example Usage"
   ]
  },
  {
   "cell_type": "code",
   "execution_count": null,
   "metadata": {},
   "outputs": [],
   "source": [
    "# Assuming new_customer_data is a DataFrame containing the new customer data\n",
    "# new_customer_data = pd.DataFrame({...})\n",
    "\n",
    "# Example new customer data (replace with actual data)\n",
    "example_data = {\n",
    "    'Amount': [5000],\n",
    "    'Value': [5000],\n",
    "    'PricingStrategy': [2],\n",
    "    'CurrencyCode_UGX': [1],\n",
    "    'CountryCode_256': [1],\n",
    "    'ProviderId_1': [0],\n",
    "    'ProviderId_4': [0],\n",
    "    'ProviderId_6': [1],\n",
    "    'ProductId_1': [0],\n",
    "    'ProductId_3': [1],\n",
    "    'ProductId_6': [0],\n",
    "    'ProductId_10': [0],\n",
    "    'ProductId_21': [0],\n",
    "    'ProductCategory_airtime': [1],\n",
    "    'ProductCategory_financial_services': [0],\n",
    "    'ProductCategory_utility_bill': [0],\n",
    "    'ChannelId_2': [0],\n",
    "    'ChannelId_3': [1]\n",
    "}\n",
    "new_customer_data = pd.DataFrame(example_data)\n",
    "\n",
    "# Assign risk probability\n",
    "risk_prob = assign_risk_probability(new_customer_data)\n",
    "print(\"Risk Probability:\", risk_prob)\n",
    "\n",
    "# Assign credit score\n",
    "credit_score = assign_credit_score(risk_prob)\n",
    "print(\"Credit Score:\", credit_score)\n",
    "\n",
    "# Predict the optimal loan amount and duration\n",
    "max_loan_amount, loan_duration_months = predict_optimal_loan_amount_and_duration(risk_prob)\n",
    "print(\"Max Loan Amount:\", max_loan_amount)\n",
    "print(\"Loan Duration (months):\", loan_duration_months)\n"
   ]
  }
 ],
 "metadata": {
  "kernelspec": {
   "display_name": ".venv",
   "language": "python",
   "name": "python3"
  },
  "language_info": {
   "codemirror_mode": {
    "name": "ipython",
    "version": 3
   },
   "file_extension": ".py",
   "mimetype": "text/x-python",
   "name": "python",
   "nbconvert_exporter": "python",
   "pygments_lexer": "ipython3",
   "version": "3.12.2"
  }
 },
 "nbformat": 4,
 "nbformat_minor": 2
}
=======
  "nbformat": 4,
  "nbformat_minor": 0
}
>>>>>>> 67b671486eefae0cf3741a25a972060255aaedaa
